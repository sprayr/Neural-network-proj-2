{
  "cells": [
    {
      "cell_type": "code",
      "execution_count": null,
      "metadata": {
        "id": "7tPXX_nkzH-h",
        "ExecuteTime": {
          "end_time": "2024-02-27T16:18:21.345885Z",
          "start_time": "2024-02-27T16:18:19.327946Z"
        }
      },
      "outputs": [],
      "source": [
        "import torch\n",
        "from torch import nn\n",
        "from torchvision import datasets\n",
        "import torchvision.transforms as transforms\n",
        "import matplotlib.pyplot as plt\n",
        "from torch.utils.data import DataLoader, random_split\n",
        "import time\n",
        "from sklearn.metrics import accuracy_score, precision_score, recall_score, f1_score, balanced_accuracy_score\n",
        "from torchsummary import summary\n"
      ]
    },
    {
      "cell_type": "markdown",
      "source": [
        "Used in mac: mps"
      ],
      "metadata": {
        "collapsed": false,
        "id": "_BKJg3v0VHpC"
      }
    },
    {
      "cell_type": "code",
      "execution_count": null,
      "metadata": {
        "id": "x2hzZLlt0I7S",
        "ExecuteTime": {
          "end_time": "2024-02-27T16:18:21.350324Z",
          "start_time": "2024-02-27T16:18:21.346878Z"
        },
        "outputId": "00c321f7-d192-45d7-a094-b6f542fd4502"
      },
      "outputs": [
        {
          "name": "stdout",
          "output_type": "stream",
          "text": [
            "mps\n"
          ]
        }
      ],
      "source": [
        "device = torch.device('mps')\n",
        "print(device)"
      ]
    },
    {
      "cell_type": "code",
      "execution_count": null,
      "metadata": {
        "id": "yI94pZpw0eey",
        "ExecuteTime": {
          "end_time": "2024-02-27T16:18:21.382616Z",
          "start_time": "2024-02-27T16:18:21.351410Z"
        }
      },
      "outputs": [],
      "source": [
        "image_normalize = lambda x: x / 255.\n",
        "\n",
        "train_mnist_dataset = datasets.MNIST('/Users/noam/PycharmProjects/PyTorchAfeka/files',\n",
        "                                     train=True,\n",
        "                                     download=True,\n",
        "                                     transform=transforms.Compose([\n",
        "                                         transforms.ToTensor(),\n",
        "                                         transforms.Lambda(image_normalize)\n",
        "                                     ]))\n",
        "\n",
        "test_mnist_dataset = datasets.MNIST('/Users/noam/PycharmProjects/PyTorchAfeka/files',\n",
        "                                    train=False,\n",
        "                                    download=True,\n",
        "                                    transform=transforms.Compose([transforms.ToTensor(),\n",
        "                                                                  transforms.Lambda(image_normalize)]))\n",
        "batch_size_50 = 50\n",
        "batch_size_100 = 100\n",
        "\n",
        "train_size = int(0.9 * len(train_mnist_dataset))\n",
        "val_size = len(train_mnist_dataset) - train_size\n",
        "\n",
        "train_loader_50_batch, val_loader_50_batch = random_split(\n",
        "    train_mnist_dataset, [train_size, val_size])\n",
        "\n",
        "train_loader_50_batch = DataLoader(train_loader_50_batch, batch_size=batch_size_50, shuffle=True)\n",
        "val_loader_50_batch = DataLoader(val_loader_50_batch, batch_size=batch_size_50, shuffle=True)\n",
        "\n",
        "train_loader_100_batch, val_loader_100_batch = random_split(\n",
        "    train_mnist_dataset, [train_size, val_size])\n",
        "\n",
        "train_loader_100_batch = DataLoader(train_loader_100_batch, batch_size=batch_size_50, shuffle=True)\n",
        "val_loader_100_batch = DataLoader(val_loader_100_batch, batch_size=batch_size_50, shuffle=True)\n",
        "\n",
        "test_loader_50_batch = DataLoader(test_mnist_dataset,\n",
        "                                  batch_size=batch_size_50,\n",
        "                                  shuffle=True)\n",
        "\n",
        "test_loader_100_batch = DataLoader(test_mnist_dataset,\n",
        "                                   batch_size=batch_size_100,\n",
        "                                   shuffle=True)\n"
      ]
    },
    {
      "cell_type": "code",
      "execution_count": null,
      "metadata": {
        "id": "KYXzkC82ElGV",
        "ExecuteTime": {
          "end_time": "2024-02-27T16:18:21.387994Z",
          "start_time": "2024-02-27T16:18:21.379359Z"
        }
      },
      "outputs": [],
      "source": [
        "class PrintLayer(nn.Module):\n",
        "    def __init__(self, layer_out, image=0):\n",
        "        super(PrintLayer, self).__init__()\n",
        "        self.image = image\n",
        "        self.layer_out = layer_out\n",
        "\n",
        "    def forward(self, x):\n",
        "        imgplot = plt.imshow(x.cpu().detach().numpy()[0][0])\n",
        "\n",
        "        self.layer_out = torch.clone(x[self.image])\n",
        "        return x"
      ]
    },
    {
      "cell_type": "code",
      "execution_count": null,
      "metadata": {
        "id": "1tZBRO8MN5r5",
        "ExecuteTime": {
          "end_time": "2024-02-27T16:18:21.389234Z",
          "start_time": "2024-02-27T16:18:21.383366Z"
        }
      },
      "outputs": [],
      "source": [
        "def init_conv2d_weights(m):\n",
        "    if isinstance(m, nn.Conv2d):\n",
        "        nn.init.xavier_normal_(m.weight)\n",
        "        m.weight = nn.Parameter(torch.abs(m.weight))\n",
        "        m.bias.data.fill_(0.01)\n"
      ]
    },
    {
      "cell_type": "code",
      "outputs": [],
      "source": [
        "def get_activation(name, activation):\n",
        "    def hook(model, input, output):\n",
        "        if name == 'conv1':\n",
        "            activation[\"input\"] = input[0]\n",
        "        activation[name] = output.detach()\n",
        "    return hook\n"
      ],
      "metadata": {
        "ExecuteTime": {
          "end_time": "2024-02-27T16:18:21.389687Z",
          "start_time": "2024-02-27T16:18:21.385146Z"
        },
        "id": "V6zqqVEbVHpE"
      },
      "execution_count": null
    },
    {
      "cell_type": "code",
      "execution_count": null,
      "metadata": {
        "id": "Lo299GWB0ks5",
        "ExecuteTime": {
          "end_time": "2024-02-27T16:18:21.395097Z",
          "start_time": "2024-02-27T16:18:21.387751Z"
        }
      },
      "outputs": [],
      "source": [
        "model_no_hidden = nn.Sequential(\n",
        "    nn.Flatten(),\n",
        "    nn.Linear(784, 10),\n",
        ")\n"
      ]
    },
    {
      "cell_type": "code",
      "execution_count": null,
      "metadata": {
        "id": "M763BrN47oGQ",
        "ExecuteTime": {
          "end_time": "2024-02-27T16:18:21.396215Z",
          "start_time": "2024-02-27T16:18:21.390803Z"
        }
      },
      "outputs": [],
      "source": [
        "model_with_hidden = nn.Sequential(\n",
        "    nn.Flatten(),\n",
        "    nn.Linear(784, 200),\n",
        "    nn.ReLU(),\n",
        "    nn.Linear(200, 200),\n",
        "    nn.ReLU(),\n",
        "    nn.Linear(200, 10),\n",
        ")\n",
        "\n"
      ]
    },
    {
      "cell_type": "code",
      "execution_count": null,
      "metadata": {
        "id": "I8rKSMXLE40r",
        "ExecuteTime": {
          "end_time": "2024-02-27T16:18:21.420944Z",
          "start_time": "2024-02-27T16:18:21.396223Z"
        },
        "outputId": "3289f73a-c157-479c-cd94-4a8f98835915"
      },
      "outputs": [
        {
          "data": {
            "text/plain": "<torch.utils.hooks.RemovableHandle at 0x173bd6090>"
          },
          "execution_count": 9,
          "metadata": {},
          "output_type": "execute_result"
        }
      ],
      "source": [
        "model_conv_32 = nn.Sequential(\n",
        "    nn.Conv2d(in_channels=1, out_channels=32, kernel_size=(5,5), stride=(1,1), padding='same'),\n",
        "    nn.ReLU(),\n",
        "    nn.MaxPool2d(kernel_size=(2,2), stride=(2,2)),\n",
        "    nn.Flatten(),\n",
        "    nn.Linear(in_features=32*14*14, out_features=1024),\n",
        "    nn.ReLU(),\n",
        "    nn.Linear(in_features=1024, out_features=10)\n",
        "  )\n",
        "model_conv_32.apply(init_conv2d_weights)\n",
        "\n",
        "model_conv_32.activation = {}\n",
        "\n",
        "model_conv_32[0].register_forward_hook(get_activation('conv1', model_conv_32.activation))\n",
        "model_conv_32[1].register_forward_hook(get_activation('conv1_Relu', model_conv_32.activation))\n",
        "model_conv_32[2].register_forward_hook(get_activation('max_pool_1', model_conv_32.activation))\n"
      ]
    },
    {
      "cell_type": "code",
      "execution_count": null,
      "metadata": {
        "id": "bX73sDo9IhZ_",
        "ExecuteTime": {
          "end_time": "2024-02-27T16:18:21.439354Z",
          "start_time": "2024-02-27T16:18:21.423219Z"
        },
        "outputId": "c4bfe6e3-9a97-45bc-867e-d4f479406bb9"
      },
      "outputs": [
        {
          "data": {
            "text/plain": "<torch.utils.hooks.RemovableHandle at 0x2a71172d0>"
          },
          "execution_count": 10,
          "metadata": {},
          "output_type": "execute_result"
        }
      ],
      "source": [
        "model_conv_64 = nn.Sequential(\n",
        "    nn.Conv2d(in_channels=1, out_channels=32, kernel_size=(5,5), stride=(1,1), padding='same'),\n",
        "    nn.ReLU(),\n",
        "    nn.MaxPool2d(kernel_size=(2,2), stride=(2,2)),\n",
        "    nn.Conv2d(in_channels=32, out_channels=64, kernel_size=(5,5), stride=(1,1), padding='same'),\n",
        "    nn.ReLU(),\n",
        "    nn.MaxPool2d(kernel_size=(2,2), stride=(2,2)),\n",
        "    nn.Flatten(),\n",
        "    nn.Linear(in_features=64*7*7, out_features=1024),\n",
        "    nn.ReLU(),\n",
        "    nn.Linear(in_features=1024, out_features=10)\n",
        "  )\n",
        "model_conv_64.apply(init_conv2d_weights)\n",
        "\n",
        "\n",
        "model_conv_64.activation = {}\n",
        "\n",
        "model_conv_64[0].register_forward_hook(get_activation('conv1', model_conv_64.activation))\n",
        "model_conv_64[1].register_forward_hook(get_activation('conv1_Relu', model_conv_64.activation))\n",
        "model_conv_64[2].register_forward_hook(get_activation('max_pool_1', model_conv_64.activation))\n",
        "model_conv_64[3].register_forward_hook(get_activation('conv2', model_conv_64.activation))\n",
        "model_conv_64[4].register_forward_hook(get_activation('conv2_Relu', model_conv_64.activation))\n",
        "model_conv_64[5].register_forward_hook(get_activation('max_pool_2', model_conv_64.activation))\n",
        "\n"
      ]
    },
    {
      "cell_type": "code",
      "execution_count": null,
      "metadata": {
        "id": "nmWpsMObI2y4",
        "ExecuteTime": {
          "end_time": "2024-02-27T16:18:21.457212Z",
          "start_time": "2024-02-27T16:18:21.440566Z"
        },
        "outputId": "3f7b4e87-7059-44a8-f7ad-a8717420b82a"
      },
      "outputs": [
        {
          "data": {
            "text/plain": "<torch.utils.hooks.RemovableHandle at 0x177ee9410>"
          },
          "execution_count": 11,
          "metadata": {},
          "output_type": "execute_result"
        }
      ],
      "source": [
        "model_conv_64_with_dropout = nn.Sequential(\n",
        "    nn.Conv2d(in_channels=1, out_channels=32, kernel_size=(5,5), stride=(1,1), padding='same'),\n",
        "    nn.ReLU(),\n",
        "    nn.MaxPool2d(kernel_size=(2,2), stride=(2,2)),\n",
        "    nn.Conv2d(in_channels=32, out_channels=64, kernel_size=(5,5), stride=(1,1), padding='same'),\n",
        "    nn.ReLU(),\n",
        "    nn.MaxPool2d(kernel_size=(2,2), stride=(2,2)),\n",
        "    nn.Flatten(),\n",
        "    nn.Dropout(p=0.5),\n",
        "    nn.Linear(in_features=64*7*7, out_features=1024),\n",
        "    nn.ReLU(),\n",
        "    nn.Linear(in_features=1024, out_features=10)\n",
        "  )\n",
        "model_conv_64_with_dropout.apply(init_conv2d_weights)\n",
        "\n",
        "model_conv_64_with_dropout.activation = {}\n",
        "\n",
        "model_conv_64_with_dropout[0].register_forward_hook(get_activation('conv1', model_conv_64_with_dropout.activation))\n",
        "model_conv_64_with_dropout[1].register_forward_hook(get_activation('conv1_Relu', model_conv_64_with_dropout.activation))\n",
        "model_conv_64_with_dropout[2].register_forward_hook(get_activation('max_pool_1', model_conv_64_with_dropout.activation))\n",
        "model_conv_64_with_dropout[3].register_forward_hook(get_activation('conv2', model_conv_64_with_dropout.activation))\n",
        "model_conv_64_with_dropout[4].register_forward_hook(get_activation('conv2_Relu', model_conv_64_with_dropout.activation))\n",
        "model_conv_64_with_dropout[5].register_forward_hook(get_activation('max_pool_2', model_conv_64_with_dropout.activation))\n"
      ]
    },
    {
      "cell_type": "code",
      "execution_count": null,
      "metadata": {
        "id": "u6q6ncRGOL9p",
        "ExecuteTime": {
          "end_time": "2024-02-27T16:18:21.457692Z",
          "start_time": "2024-02-27T16:18:21.454919Z"
        }
      },
      "outputs": [],
      "source": [
        "def predict(model, data_loder):\n",
        "  model.eval()\n",
        "  val_predictions = []\n",
        "  val_targets = []\n",
        "\n",
        "  for (images, labels) in data_loder:\n",
        "    images, labels = images.to(device), labels.to(device)\n",
        "\n",
        "    output = model(images)\n",
        "\n",
        "    _, predictions = torch.max(output, 1)\n",
        "    val_predictions.extend(predictions.cpu().numpy())\n",
        "    val_targets.extend(labels.cpu().numpy())\n",
        "\n",
        "  return (torch.tensor(val_predictions), torch.tensor(val_targets))\n"
      ]
    },
    {
      "cell_type": "code",
      "execution_count": null,
      "metadata": {
        "id": "T28o-PgcWIj1",
        "ExecuteTime": {
          "end_time": "2024-02-27T16:18:21.459516Z",
          "start_time": "2024-02-27T16:18:21.458196Z"
        }
      },
      "outputs": [],
      "source": [
        "def score(predictions, targets, mode: str):\n",
        "  accuracy = accuracy_score(targets, predictions)\n",
        "  precision = precision_score(targets, predictions, average='weighted', zero_division=1)\n",
        "  recall = recall_score(targets, predictions, average='weighted')\n",
        "  f1 = f1_score(targets, predictions, average='weighted')\n",
        "  balanced_accuracy = balanced_accuracy_score(targets, predictions)\n",
        "\n",
        "  print(f\"{mode} Results:\\n\")\n",
        "  print(f\"Accuracy: {accuracy:.4f}\")\n",
        "  print(f\"Precision: {precision:.4f}\")\n",
        "  print(f\"Recall: {recall:.4f}\")\n",
        "  print(f\"F1 Score: {f1:.4f}\")\n",
        "  print(f\"Balanced Accuracy: {balanced_accuracy:.4f}\")\n",
        "  print(\"---------------------------------------------\\n\")\n"
      ]
    },
    {
      "cell_type": "code",
      "execution_count": null,
      "metadata": {
        "id": "loKXRjgSQUiW",
        "ExecuteTime": {
          "end_time": "2024-02-27T16:18:21.465732Z",
          "start_time": "2024-02-27T16:18:21.460750Z"
        }
      },
      "outputs": [],
      "source": [
        "def train_model(model, training):\n",
        "  lr=1e-3\n",
        "  model.to(device)\n",
        "  optimizer = torch.optim.Adam(model.parameters(), lr=lr)\n",
        "  loss = torch.nn.CrossEntropyLoss()\n",
        "  counter = 0\n",
        "  mini_batch = 13000\n",
        "  start = time.time()\n",
        "\n",
        "  while counter < mini_batch:\n",
        "    for (images, labels) in training:\n",
        "      images, labels = images.to(device), labels.to(device)\n",
        "\n",
        "      cross_entropy = loss(model(images), labels)\n",
        "      # if not (counter % 30):\n",
        "      #   print(cross_entropy.cpu().detach().numpy())\n",
        "\n",
        "      optimizer.zero_grad()\n",
        "\n",
        "      cross_entropy.backward()\n",
        "\n",
        "      optimizer.step()\n",
        "\n",
        "      counter += training.batch_size\n",
        "      if counter < mini_batch:\n",
        "        break\n",
        "\n",
        "  end = time.time()\n",
        "\n",
        "  print(f\"Training time: {end - start:.2f} seconds\")\n",
        "  cal_weights(model)\n"
      ]
    },
    {
      "cell_type": "code",
      "execution_count": null,
      "metadata": {
        "id": "-PnK1QvYS-Ad",
        "ExecuteTime": {
          "end_time": "2024-02-27T16:18:21.466770Z",
          "start_time": "2024-02-27T16:18:21.464685Z"
        }
      },
      "outputs": [],
      "source": [
        "def train_model2(model, training, validation_loader):\n",
        "  lr=1e-4\n",
        "  model.to(device)\n",
        "  optimizer = torch.optim.Adam(model.parameters(), lr=lr)\n",
        "  loss = torch.nn.CrossEntropyLoss()\n",
        "  counter = 0\n",
        "  start = time.time()\n",
        "\n",
        "  while True:\n",
        "    for (images, labels) in training:\n",
        "      cross_entropy = loss(model(images.to(device)), labels.to(device))\n",
        "\n",
        "      optimizer.zero_grad()\n",
        "\n",
        "      cross_entropy.backward()\n",
        "\n",
        "      optimizer.step()\n",
        "\n",
        "      counter += 1\n",
        "\n",
        "    predictions, targets = predict(model=model, data_loder=validation_loader)\n",
        "\n",
        "    accuracy = accuracy_score(targets, predictions)\n",
        "    if accuracy >= 0.99:\n",
        "      break\n",
        "\n",
        "  end = time.time()\n",
        "\n",
        "  print(f\"Training time: {end - start:.2f} seconds\")\n",
        "  print(f\"Num of batch iterations: {counter}\")\n",
        "\n",
        "  cal_weights(model)\n"
      ]
    },
    {
      "cell_type": "code",
      "execution_count": null,
      "metadata": {
        "id": "VMJlI0iMTcDf",
        "ExecuteTime": {
          "end_time": "2024-02-27T16:18:21.471825Z",
          "start_time": "2024-02-27T16:18:21.467460Z"
        }
      },
      "outputs": [],
      "source": [
        "def cal_weights(model):\n",
        "  total_weights = 0\n",
        "\n",
        "  # Iterate through each layer in the sequential model\n",
        "  for layer in model:\n",
        "      if hasattr(layer, 'weight') and layer.weight is not None:\n",
        "          layer_weights = layer.weight.numel()\n",
        "          total_weights += layer_weights\n",
        "\n",
        "      if hasattr(layer, 'bias') and layer.bias is not None:\n",
        "          layer_biases = layer.bias.numel()\n",
        "          total_weights += layer_biases\n",
        "\n",
        "  print(f'Total number of weights : {total_weights}\\n')"
      ]
    },
    {
      "cell_type": "code",
      "execution_count": null,
      "metadata": {
        "id": "9Cx3M1TRIOFI",
        "ExecuteTime": {
          "end_time": "2024-02-27T16:18:33.136389Z",
          "start_time": "2024-02-27T16:18:21.469849Z"
        },
        "outputId": "0ac1fc63-04df-468f-f128-fd610a5d3eb3"
      },
      "outputs": [
        {
          "name": "stdout",
          "output_type": "stream",
          "text": [
            "Model without hidden layers\n",
            "Training time: 6.85 seconds\n",
            "Total number of weights : 7850\n",
            "Train Results:\n",
            "\n",
            "Accuracy: 0.6821\n",
            "Precision: 0.7664\n",
            "Recall: 0.6821\n",
            "F1 Score: 0.6537\n",
            "Balanced Accuracy: 0.6701\n",
            "---------------------------------------------\n",
            "Validation Results:\n",
            "\n",
            "Accuracy: 0.6787\n",
            "Precision: 0.7628\n",
            "Recall: 0.6787\n",
            "F1 Score: 0.6470\n",
            "Balanced Accuracy: 0.6698\n",
            "---------------------------------------------\n",
            "Test Results:\n",
            "\n",
            "Accuracy: 0.7001\n",
            "Precision: 0.7773\n",
            "Recall: 0.7001\n",
            "F1 Score: 0.6697\n",
            "Balanced Accuracy: 0.6885\n",
            "---------------------------------------------\n"
          ]
        }
      ],
      "source": [
        "print(\"Model without hidden layers\")\n",
        "train_model(model_no_hidden, train_loader_50_batch)\n",
        "\n",
        "predictions, targets = predict(model=model_no_hidden, data_loder=train_loader_50_batch)\n",
        "score(predictions, targets, mode=\"Train\")\n",
        "\n",
        "predictions, targets = predict(model=model_no_hidden, data_loder=val_loader_50_batch)\n",
        "score(predictions, targets, mode=\"Validation\")\n",
        "\n",
        "predictions, targets = predict(model=model_no_hidden, data_loder=test_loader_50_batch)\n",
        "score(predictions, targets, mode=\"Test\")\n"
      ]
    },
    {
      "cell_type": "code",
      "execution_count": null,
      "metadata": {
        "id": "vEU9aOe-IN28",
        "ExecuteTime": {
          "end_time": "2024-02-27T16:18:47.874240Z",
          "start_time": "2024-02-27T16:18:33.134584Z"
        },
        "outputId": "388278fc-91c2-4fdb-ff96-8ce57100ac9c"
      },
      "outputs": [
        {
          "name": "stdout",
          "output_type": "stream",
          "text": [
            "Model with 2 hidden layers\n",
            "Training time: 9.75 seconds\n",
            "Total number of weights : 199210\n",
            "Train Results:\n",
            "\n",
            "Accuracy: 0.8315\n",
            "Precision: 0.8338\n",
            "Recall: 0.8315\n",
            "F1 Score: 0.8317\n",
            "Balanced Accuracy: 0.8290\n",
            "---------------------------------------------\n",
            "Validation Results:\n",
            "\n",
            "Accuracy: 0.8340\n",
            "Precision: 0.8362\n",
            "Recall: 0.8340\n",
            "F1 Score: 0.8342\n",
            "Balanced Accuracy: 0.8317\n",
            "---------------------------------------------\n",
            "Test Results:\n",
            "\n",
            "Accuracy: 0.8333\n",
            "Precision: 0.8350\n",
            "Recall: 0.8333\n",
            "F1 Score: 0.8334\n",
            "Balanced Accuracy: 0.8309\n",
            "---------------------------------------------\n"
          ]
        }
      ],
      "source": [
        "print(\"Model with 2 hidden layers\")\n",
        "train_model(model_with_hidden, train_loader_50_batch)\n",
        "\n",
        "predictions, targets = predict(model=model_with_hidden, data_loder=train_loader_50_batch)\n",
        "score(predictions, targets, mode=\"Train\")\n",
        "\n",
        "predictions, targets = predict(model=model_with_hidden, data_loder=val_loader_50_batch)\n",
        "score(predictions, targets, mode=\"Validation\")\n",
        "\n",
        "predictions, targets = predict(model=model_with_hidden, data_loder=test_loader_50_batch)\n",
        "score(predictions, targets, mode=\"Test\")"
      ]
    },
    {
      "cell_type": "code",
      "execution_count": null,
      "metadata": {
        "id": "W9hZB_2Q0qs2",
        "ExecuteTime": {
          "end_time": "2024-02-27T16:19:05.281277Z",
          "start_time": "2024-02-27T16:18:47.872189Z"
        },
        "outputId": "c0b2a772-9f22-4131-9535-38e916daeab2"
      },
      "outputs": [
        {
          "name": "stdout",
          "output_type": "stream",
          "text": [
            "Model with conv 32 filters\n",
            "Training time: 11.32 seconds\n",
            "Total number of weights : 6434634\n",
            "Train Results:\n",
            "\n",
            "Accuracy: 0.9255\n",
            "Precision: 0.9258\n",
            "Recall: 0.9255\n",
            "F1 Score: 0.9252\n",
            "Balanced Accuracy: 0.9249\n",
            "---------------------------------------------\n",
            "Validation Results:\n",
            "\n",
            "Accuracy: 0.9292\n",
            "Precision: 0.9293\n",
            "Recall: 0.9292\n",
            "F1 Score: 0.9289\n",
            "Balanced Accuracy: 0.9291\n",
            "---------------------------------------------\n",
            "Test Results:\n",
            "\n",
            "Accuracy: 0.9291\n",
            "Precision: 0.9295\n",
            "Recall: 0.9291\n",
            "F1 Score: 0.9289\n",
            "Balanced Accuracy: 0.9285\n",
            "---------------------------------------------\n"
          ]
        }
      ],
      "source": [
        "print(\"Model with conv 32 filters\")\n",
        "train_model(model_conv_32, train_loader_50_batch)\n",
        "\n",
        "predictions, targets = predict(model=model_conv_32, data_loder=train_loader_50_batch)\n",
        "score(predictions, targets, mode=\"Train\")\n",
        "\n",
        "predictions, targets = predict(model=model_conv_32, data_loder=val_loader_50_batch)\n",
        "score(predictions, targets, mode=\"Validation\")\n",
        "\n",
        "predictions, targets = predict(model=model_conv_32, data_loder=test_loader_50_batch)\n",
        "score(predictions, targets, mode=\"Test\")\n",
        "\n"
      ]
    },
    {
      "cell_type": "code",
      "outputs": [
        {
          "name": "stdout",
          "output_type": "stream",
          "text": [
            "Training time: 12.79 seconds\n",
            "Total number of weights : 3274634\n",
            "Train Results:\n",
            "\n",
            "Accuracy: 0.9262\n",
            "Precision: 0.9278\n",
            "Recall: 0.9262\n",
            "F1 Score: 0.9257\n",
            "Balanced Accuracy: 0.9248\n",
            "---------------------------------------------\n",
            "Validation Results:\n",
            "\n",
            "Accuracy: 0.9247\n",
            "Precision: 0.9266\n",
            "Recall: 0.9247\n",
            "F1 Score: 0.9242\n",
            "Balanced Accuracy: 0.9236\n",
            "---------------------------------------------\n",
            "Test Results:\n",
            "\n",
            "Accuracy: 0.9298\n",
            "Precision: 0.9311\n",
            "Recall: 0.9298\n",
            "F1 Score: 0.9293\n",
            "Balanced Accuracy: 0.9284\n",
            "---------------------------------------------\n"
          ]
        }
      ],
      "source": [
        "train_model(model_conv_64, train_loader_50_batch)\n",
        "\n",
        "predictions, targets = predict(model=model_conv_64, data_loder=train_loader_50_batch)\n",
        "score(predictions, targets, mode=\"Train\")\n",
        "\n",
        "predictions, targets = predict(model=model_conv_64, data_loder=val_loader_50_batch)\n",
        "score(predictions, targets, mode=\"Validation\")\n",
        "\n",
        "predictions, targets = predict(model=model_conv_64, data_loder=test_loader_50_batch)\n",
        "score(predictions, targets, mode=\"Test\")\n"
      ],
      "metadata": {
        "ExecuteTime": {
          "end_time": "2024-02-27T16:19:25.422194Z",
          "start_time": "2024-02-27T16:19:05.280684Z"
        },
        "id": "AQjFIa6aVHpH",
        "outputId": "e34e5725-4256-4b58-f43b-57f120e57f56"
      },
      "execution_count": null
    },
    {
      "cell_type": "code",
      "outputs": [],
      "source": [
        "def conv_image(model, batch:int, layer_name:str, channel:int):\n",
        "    plt.figure()\n",
        "    plt.title(f'{layer_name} image')\n",
        "    plt.imshow(model.activation[layer_name][batch][channel].cpu())\n",
        "\n"
      ],
      "metadata": {
        "ExecuteTime": {
          "end_time": "2024-02-27T16:19:25.422280Z",
          "start_time": "2024-02-27T16:19:25.419470Z"
        },
        "id": "OATLR-VxVHpH"
      },
      "execution_count": null
    },
    {
      "cell_type": "code",
      "execution_count": null,
      "metadata": {
        "colab": {
          "background_save": true
        },
        "id": "5MsUohRuJXyP",
        "ExecuteTime": {
          "end_time": "2024-02-27T16:19:25.873724Z",
          "start_time": "2024-02-27T16:19:25.421984Z"
        },
        "outputId": "b3aa7299-534f-431c-ac26-7a60aba53d38"
      },
      "outputs": [
        {
          "name": "stdout",
          "output_type": "stream",
          "text": [
            "Model with conv 64 filters\n"
          ]
        },
        {
          "data": {
            "text/plain": "<Figure size 640x480 with 1 Axes>",
            "image/png": "[encoded data removed]"
          },
          "metadata": {},
          "output_type": "display_data"
        },
        {
          "data": {
            "text/plain": "<Figure size 640x480 with 1 Axes>",
            "image/png": "[encoded data removed]"
          },
          "metadata": {},
          "output_type": "display_data"
        },
        {
          "data": {
            "text/plain": "<Figure size 640x480 with 1 Axes>",
            "image/png": "[encoded data removed]"
          },
          "metadata": {},
          "output_type": "display_data"
        },
        {
          "data": {
            "text/plain": "<Figure size 640x480 with 1 Axes>",
            "image/png": "[encoded data removed]"
          },
          "metadata": {},
          "output_type": "display_data"
        },
        {
          "data": {
            "text/plain": "<Figure size 640x480 with 1 Axes>",
            "image/png": "[encoded data removed]"
          },
          "metadata": {},
          "output_type": "display_data"
        }
      ],
      "source": [
        "print(\"Model with conv 64 filters\")\n",
        "\n",
        "conv_image(model_conv_64, 2, \"input\", 0)\n",
        "conv_image(model_conv_64, 2, \"conv1\", 4)\n",
        "conv_image(model_conv_64, 2, \"conv1_Relu\", 4)\n",
        "conv_image(model_conv_64, 2, \"conv2\", 4)\n",
        "conv_image(model_conv_64, 2, \"conv2_Relu\", 4)\n"
      ]
    },
    {
      "cell_type": "code",
      "outputs": [
        {
          "name": "stdout",
          "output_type": "stream",
          "text": [
            "----------------------------------------------------------------\n",
            "        Layer (type)               Output Shape         Param #\n",
            "================================================================\n",
            "            Conv2d-1           [-1, 32, 28, 28]             832\n",
            "              ReLU-2           [-1, 32, 28, 28]               0\n",
            "         MaxPool2d-3           [-1, 32, 14, 14]               0\n",
            "            Conv2d-4           [-1, 64, 14, 14]          51,264\n",
            "              ReLU-5           [-1, 64, 14, 14]               0\n",
            "         MaxPool2d-6             [-1, 64, 7, 7]               0\n",
            "           Flatten-7                 [-1, 3136]               0\n",
            "            Linear-8                 [-1, 1024]       3,212,288\n",
            "              ReLU-9                 [-1, 1024]               0\n",
            "           Linear-10                   [-1, 10]          10,250\n",
            "================================================================\n",
            "Total params: 3,274,634\n",
            "Trainable params: 3,274,634\n",
            "Non-trainable params: 0\n",
            "----------------------------------------------------------------\n",
            "Input size (MB): 0.00\n",
            "Forward/backward pass size (MB): 0.69\n",
            "Params size (MB): 12.49\n",
            "Estimated Total Size (MB): 13.18\n",
            "----------------------------------------------------------------\n"
          ]
        }
      ],
      "source": [
        "summary(model_conv_64.cpu(), (1,28,28))\n"
      ],
      "metadata": {
        "ExecuteTime": {
          "end_time": "2024-02-27T16:19:25.883850Z",
          "start_time": "2024-02-27T16:19:25.870907Z"
        },
        "id": "XTmUUWSPVHpI",
        "outputId": "4082f40d-d0a8-4b24-80a3-9f12ed5ff919"
      },
      "execution_count": null
    },
    {
      "cell_type": "markdown",
      "source": [
        "At this point of the project, we are comparing the 2 models with the dropout, with 50 and 100 minibatches. validation accuracy of 0.99 will take a significant time for running.  "
      ],
      "metadata": {
        "collapsed": false,
        "id": "oy3XndBmVHpI"
      }
    },
    {
      "cell_type": "code",
      "execution_count": null,
      "metadata": {
        "id": "Kig92WZ4JXln",
        "colab": {
          "base_uri": "https://localhost:8080/"
        },
        "outputId": "61899fba-2ea4-4560-ae7f-eb3fcff2e62a",
        "is_executing": true,
        "ExecuteTime": {
          "start_time": "2024-02-27T16:19:25.882295Z"
        }
      },
      "outputs": [
        {
          "name": "stdout",
          "output_type": "stream",
          "text": [
            "Model with conv 64 filters with dropout - 50 minibatch\n",
            "0.823\n",
            "0.8916666666666667\n",
            "0.9101666666666667\n",
            "0.9243333333333333\n",
            "0.9356666666666666\n",
            "0.9355\n",
            "0.947\n",
            "0.9468333333333333\n",
            "0.9528333333333333\n",
            "0.9566666666666667\n",
            "0.955\n",
            "0.9571666666666667\n",
            "0.9625\n",
            "0.9576666666666667\n",
            "0.9675\n",
            "0.9678333333333333\n",
            "0.9665\n",
            "0.9655\n",
            "0.9713333333333334\n",
            "0.9726666666666667\n",
            "0.9735\n",
            "0.9713333333333334\n",
            "0.9686666666666667\n",
            "0.9716666666666667\n",
            "0.9743333333333334\n",
            "0.9743333333333334\n",
            "0.9751666666666666\n",
            "0.9755\n",
            "0.9773333333333334\n",
            "0.9781666666666666\n",
            "0.9755\n",
            "0.9783333333333334\n",
            "0.9783333333333334\n",
            "0.9771666666666666\n",
            "0.9825\n",
            "0.9796666666666667\n",
            "0.9785\n",
            "0.9796666666666667\n",
            "0.9818333333333333\n",
            "0.9803333333333333\n",
            "0.9805\n",
            "0.9823333333333333\n",
            "0.9801666666666666\n",
            "0.9811666666666666\n",
            "0.9813333333333333\n",
            "0.982\n",
            "0.9816666666666667\n",
            "0.9838333333333333\n",
            "0.982\n",
            "0.9816666666666667\n"
          ]
        }
      ],
      "source": [
        "print(\"Model with conv 64 filters with dropout - 50 minibatch\")\n",
        "train_model2(model_conv_64_with_dropout, train_loader_50_batch, val_loader_50_batch)\n",
        "\n",
        "predictions, targets = predict(model=model_conv_64_with_dropout, data_loder=train_loader_50_batch)\n",
        "score(predictions, targets, mode=\"Train\")\n",
        "\n",
        "predictions, targets = predict(model=model_conv_64_with_dropout, data_loder=val_loader_50_batch)\n",
        "score(predictions, targets, mode=\"Validation\")\n",
        "\n",
        "predictions, targets = predict(model=model_conv_64_with_dropout, data_loder=test_loader_50_batch)\n",
        "score(predictions, targets, mode=\"Test\")"
      ]
    },
    {
      "cell_type": "code",
      "execution_count": null,
      "metadata": {
        "id": "mj6r1VxrRY2h",
        "is_executing": true
      },
      "outputs": [],
      "source": [
        "print(\"Model with conv 64 filters with dropout - 100 minibatch\")\n",
        "train_model2(model_conv_64_with_dropout, train_loader_100_batch, val_loader_100_batch)\n",
        "\n",
        "predictions, targets = predict(model=model_conv_64_with_dropout, data_loder=train_loader_100_batch)\n",
        "score(predictions, targets, mode=\"Train\")\n",
        "\n",
        "predictions, targets = predict(model=model_conv_64_with_dropout, data_loder=val_loader_100_batch)\n",
        "score(predictions, targets, mode=\"Validation\")\n",
        "\n",
        "predictions, targets = predict(model=model_conv_64_with_dropout, data_loder=test_loader_100_batch)\n",
        "score(predictions, targets, mode=\"Test\")"
      ]
    },
    {
      "cell_type": "code",
      "outputs": [],
      "source": [],
      "metadata": {
        "is_executing": true,
        "id": "tAR7sIV0VHpI"
      },
      "execution_count": null
    }
  ],
  "metadata": {
    "accelerator": "GPU",
    "colab": {
      "gpuType": "T4",
      "provenance": []
    },
    "kernelspec": {
      "name": "python3",
      "language": "python",
      "display_name": "Python 3 (ipykernel)"
    },
    "language_info": {
      "name": "python"
    }
  },
  "nbformat": 4,
  "nbformat_minor": 0
}